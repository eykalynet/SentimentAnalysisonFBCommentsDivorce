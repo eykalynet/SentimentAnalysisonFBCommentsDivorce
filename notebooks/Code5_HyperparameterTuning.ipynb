{
  "nbformat": 4,
  "nbformat_minor": 0,
  "metadata": {
    "colab": {
      "provenance": [],
      "toc_visible": true,
      "machine_shape": "hm",
      "gpuType": "L4"
    },
    "kernelspec": {
      "name": "python3",
      "display_name": "Python 3"
    },
    "language_info": {
      "name": "python"
    },
    "accelerator": "GPU"
  },
  "cells": [
    {
      "cell_type": "markdown",
      "source": [
        "# Installs and Imports"
      ],
      "metadata": {
        "id": "6jpoCFlO7T-C"
      }
    },
    {
      "cell_type": "code",
      "source": [
        "!pip install pandas transformers datasets scikit-learn torch transformers[torch] optuna"
      ],
      "metadata": {
        "id": "UZZHGNut9yiB"
      },
      "execution_count": null,
      "outputs": []
    },
    {
      "cell_type": "code",
      "source": [
        "import pandas as pd\n",
        "import numpy as np\n",
        "import optuna\n",
        "import torch\n",
        "from torch.utils.data import Dataset, DataLoader, random_split\n",
        "from transformers import (\n",
        "    XLMRobertaForSequenceClassification,\n",
        "    DataCollatorWithPadding,\n",
        "    TrainingArguments,\n",
        "    Trainer,\n",
        "    AutoTokenizer,\n",
        "    TrainerCallback,\n",
        "    EarlyStoppingCallback\n",
        ")\n",
        "from sklearn.metrics import precision_recall_fscore_support, accuracy_score\n",
        "from sklearn.model_selection import KFold\n",
        "from tqdm import tqdm"
      ],
      "metadata": {
        "id": "cU00VUma9y1e"
      },
      "execution_count": null,
      "outputs": []
    },
    {
      "cell_type": "markdown",
      "source": [
        "# Drive Mounting"
      ],
      "metadata": {
        "id": "0GtjWNLm7Vrk"
      }
    },
    {
      "cell_type": "code",
      "source": [
        "from google.colab import drive\n",
        "drive.mount('/content/drive')"
      ],
      "metadata": {
        "id": "X0cbf0RH90aX"
      },
      "execution_count": null,
      "outputs": []
    },
    {
      "cell_type": "markdown",
      "source": [
        "# Dataset Loading"
      ],
      "metadata": {
        "id": "028gDIEu7XkS"
      }
    },
    {
      "cell_type": "code",
      "source": [
        "annotated_and_pseudolabeled_path = '/content/drive/My Drive/Research/SentimentAnalysisDivorce/Dataset/ANNOTATED_AND_PSEUDOLABELED_DATA_01.xlsx'\n",
        "cleaned_preprocessed_path = '/content/drive/My Drive/Research/SentimentAnalysisDivorce/Dataset/CLEANED_PREPROCESSED_DATA_05.xlsx'"
      ],
      "metadata": {
        "id": "Q2OoQqAQAfHa"
      },
      "execution_count": null,
      "outputs": []
    },
    {
      "cell_type": "code",
      "source": [
        "df_combined_nd = pd.read_excel(annotated_and_pseudolabeled_path, sheet_name='ND')\n",
        "df_combined_dn = pd.read_excel(annotated_and_pseudolabeled_path, sheet_name='DN')"
      ],
      "metadata": {
        "id": "qk9dFOa3A2uy"
      },
      "execution_count": null,
      "outputs": []
    },
    {
      "cell_type": "code",
      "source": [
        "model_path_nd = '/content/drive/My Drive/Research/SentimentAnalysisDivorce/Models/ND'\n",
        "model_path_dn = '/content/drive/My Drive/Research/SentimentAnalysisDivorce/Models/DN'"
      ],
      "metadata": {
        "id": "2yBZnOskBPIS"
      },
      "execution_count": null,
      "outputs": []
    },
    {
      "cell_type": "markdown",
      "source": [
        "# Helper Functions"
      ],
      "metadata": {
        "id": "SM19dy5TA_nY"
      }
    },
    {
      "cell_type": "code",
      "source": [
        "def preprocess_data(df, tokenizer, max_length=512):\n",
        "    texts = df['text'].tolist()\n",
        "    labels = df['numericalLabel'].astype(int).tolist()\n",
        "    inputs = tokenizer(texts, truncation=True, padding=True, max_length=max_length, return_tensors=\"pt\")\n",
        "    inputs['labels'] = torch.tensor(labels)\n",
        "    return inputs"
      ],
      "metadata": {
        "id": "tjhQIS4JBBAF"
      },
      "execution_count": null,
      "outputs": []
    },
    {
      "cell_type": "code",
      "source": [
        "class CustomDataset(Dataset):\n",
        "    def __init__(self, inputs):\n",
        "        self.inputs = inputs\n",
        "\n",
        "    def __len__(self):\n",
        "        return len(self.inputs['input_ids'])\n",
        "\n",
        "    def __getitem__(self, idx):\n",
        "        item = {key: val[idx] for key, val in self.inputs.items()}\n",
        "        return item"
      ],
      "metadata": {
        "id": "-vmRnyY0BCbQ"
      },
      "execution_count": null,
      "outputs": []
    },
    {
      "cell_type": "code",
      "source": [
        "def compute_metrics(p):\n",
        "    preds = np.argmax(p.predictions, axis=1)\n",
        "    precision, recall, f1, _ = precision_recall_fscore_support(p.label_ids, preds, average='weighted')\n",
        "    acc = accuracy_score(p.label_ids, preds)\n",
        "    return {\n",
        "        'accuracy': acc,\n",
        "        'f1': f1,\n",
        "        'precision': precision,\n",
        "        'recall': recall\n",
        "    }"
      ],
      "metadata": {
        "id": "yLTRwS6tBF-J"
      },
      "execution_count": null,
      "outputs": []
    },
    {
      "cell_type": "code",
      "source": [
        "class BestModelSaverCallback(TrainerCallback):\n",
        "    def __init__(self, trainer, tokenizer, patience=10, min_delta=0.0, output_dir=None):\n",
        "        self.trainer = trainer\n",
        "        self.tokenizer = tokenizer\n",
        "        self.patience = patience\n",
        "        self.min_delta = min_delta\n",
        "        self.output_dir = output_dir\n",
        "        self.best_loss = None\n",
        "        self.best_accuracy = None\n",
        "        self.patience_counter = 0\n",
        "\n",
        "    def on_evaluate(self, args, state, control, **kwargs):\n",
        "        logs = kwargs.get(\"metrics\", {})\n",
        "        eval_loss = logs.get(\"eval_loss\")\n",
        "        eval_accuracy = logs.get(\"eval_accuracy\")\n",
        "\n",
        "        if eval_loss is not None and eval_accuracy is not None:\n",
        "            if self.best_loss is None or eval_loss < self.best_loss - self.min_delta:\n",
        "                self.best_loss = eval_loss\n",
        "                self.best_accuracy = eval_accuracy\n",
        "                self.patience_counter = 0\n",
        "\n",
        "                if self.output_dir:\n",
        "                    self.trainer.model.save_pretrained(self.output_dir)\n",
        "                    self.tokenizer.save_pretrained(self.output_dir)\n",
        "            else:\n",
        "                self.patience_counter += 1\n",
        "                if self.patience_counter > self.patience:\n",
        "                    control.should_training_stop = True"
      ],
      "metadata": {
        "id": "Ui9hA-nTBHcy"
      },
      "execution_count": null,
      "outputs": []
    },
    {
      "cell_type": "code",
      "source": [
        "tokenizer_xlm = AutoTokenizer.from_pretrained(\"xlm-roberta-base\")\n",
        "\n",
        "inputs_nd = preprocess_data(df_combined_nd, tokenizer_xlm)\n",
        "inputs_dn = preprocess_data(df_combined_dn, tokenizer_xlm)\n",
        "\n",
        "dataset_nd = CustomDataset(inputs_nd)\n",
        "dataset_dn = CustomDataset(inputs_dn)"
      ],
      "metadata": {
        "id": "ZxLxNuLUBHb4"
      },
      "execution_count": null,
      "outputs": []
    },
    {
      "cell_type": "markdown",
      "source": [
        "# Hyperparameter Tuning"
      ],
      "metadata": {
        "id": "1yVP1A767aGC"
      }
    },
    {
      "cell_type": "code",
      "source": [
        "def objective(trial, train_dataset, model_path, category_name):\n",
        "    # Define hyperparameters to tune\n",
        "    learning_rate = trial.suggest_float(\"learning_rate\", 1e-5, 5e-5, log=True)\n",
        "    num_train_epochs = trial.suggest_int(\"num_train_epochs\", 2, 5)\n",
        "    per_device_train_batch_size = trial.suggest_categorical(\"per_device_train_batch_size\", [8, 16, 32])\n",
        "    gradient_accumulation_steps = trial.suggest_int(\"gradient_accumulation_steps\", 1, 4)\n",
        "    weight_decay = trial.suggest_float(\"weight_decay\", 0, 0.3)\n",
        "    warmup_steps = trial.suggest_int(\"warmup_steps\", 0, 500)\n",
        "\n",
        "    training_args = TrainingArguments(\n",
        "        output_dir=f'/content/drive/My Drive/Research/SentimentAnalysisDivorce/Models/HyperparameterTuned/{category_name}',\n",
        "        evaluation_strategy='epoch',\n",
        "        save_strategy='epoch',\n",
        "        learning_rate=learning_rate,\n",
        "        per_device_train_batch_size=per_device_train_batch_size,\n",
        "        per_device_eval_batch_size=16,\n",
        "        num_train_epochs=num_train_epochs,\n",
        "        weight_decay=weight_decay,\n",
        "        warmup_steps=warmup_steps,\n",
        "        gradient_accumulation_steps=gradient_accumulation_steps,\n",
        "        load_best_model_at_end=True,\n",
        "        metric_for_best_model='eval_loss',\n",
        "        greater_is_better=False,\n",
        "        fp16=True,  # Use mixed precision training\n",
        "    )\n",
        "\n",
        "    # Initialize K-fold cross-validator\n",
        "    kf = KFold(n_splits=5, shuffle=True, random_state=42)\n",
        "\n",
        "    # Perform K-Fold cross-validation\n",
        "    losses = []\n",
        "    for fold, (train_index, eval_index) in enumerate(kf.split(train_dataset)):\n",
        "        print(f\"Starting fold {fold+1}...\")\n",
        "        train_subset = torch.utils.data.Subset(train_dataset, train_index)\n",
        "        eval_subset = torch.utils.data.Subset(train_dataset, eval_index)\n",
        "\n",
        "        model = XLMRobertaForSequenceClassification.from_pretrained(model_path, num_labels=7)\n",
        "        data_collator = DataCollatorWithPadding(tokenizer=tokenizer_xlm)\n",
        "\n",
        "        trainer = Trainer(\n",
        "            model=model,\n",
        "            args=training_args,\n",
        "            train_dataset=train_subset,\n",
        "            eval_dataset=eval_subset,\n",
        "            data_collator=data_collator,\n",
        "            compute_metrics=compute_metrics,\n",
        "            callbacks=[\n",
        "                EarlyStoppingCallback(early_stopping_patience=3),\n",
        "            ]\n",
        "        )\n",
        "\n",
        "        trainer.train()\n",
        "        eval_results = trainer.evaluate()\n",
        "        losses.append(eval_results['eval_loss'])\n",
        "\n",
        "        # Clear cache\n",
        "        torch.cuda.empty_cache()\n",
        "        torch.cuda.ipc_collect()\n",
        "\n",
        "    # Return the average loss across all folds\n",
        "    return np.mean(losses)"
      ],
      "metadata": {
        "id": "RSczAnbDBPxz"
      },
      "execution_count": null,
      "outputs": []
    },
    {
      "cell_type": "code",
      "source": [
        "study_nd = optuna.create_study(direction='minimize')\n",
        "study_dn = optuna.create_study(direction='minimize')"
      ],
      "metadata": {
        "id": "FRiUPeC7B9zd"
      },
      "execution_count": null,
      "outputs": []
    },
    {
      "cell_type": "code",
      "source": [
        "model_path = model_path_nd\n",
        "category_name = 'ND'\n",
        "study_nd.optimize(lambda trial: objective(trial, dataset_nd, model_path, category_name), n_trials=3)"
      ],
      "metadata": {
        "id": "fSD4GkiHB_gB",
        "colab": {
          "base_uri": "https://localhost:8080/",
          "height": 1000
        },
        "outputId": "8f2a1449-ef35-47de-f282-a744bff9d913"
      },
      "execution_count": 14,
      "outputs": [
        {
          "metadata": {
            "tags": null
          },
          "name": "stderr",
          "output_type": "stream",
          "text": [
            "/usr/local/lib/python3.10/dist-packages/transformers/training_args.py:1474: FutureWarning: `evaluation_strategy` is deprecated and will be removed in version 4.46 of 🤗 Transformers. Use `eval_strategy` instead\n",
            "  warnings.warn(\n"
          ]
        },
        {
          "metadata": {
            "tags": null
          },
          "name": "stdout",
          "output_type": "stream",
          "text": [
            "Starting fold 1...\n"
          ]
        },
        {
          "data": {
            "text/html": [
              "\n",
              "    <div>\n",
              "      \n",
              "      <progress value='348' max='348' style='width:300px; height:20px; vertical-align: middle;'></progress>\n",
              "      [348/348 07:32, Epoch 2/2]\n",
              "    </div>\n",
              "    <table border=\"1\" class=\"dataframe\">\n",
              "  <thead>\n",
              " <tr style=\"text-align: left;\">\n",
              "      <th>Epoch</th>\n",
              "      <th>Training Loss</th>\n",
              "      <th>Validation Loss</th>\n",
              "      <th>Accuracy</th>\n",
              "      <th>F1</th>\n",
              "      <th>Precision</th>\n",
              "      <th>Recall</th>\n",
              "    </tr>\n",
              "  </thead>\n",
              "  <tbody>\n",
              "    <tr>\n",
              "      <td>1</td>\n",
              "      <td>No log</td>\n",
              "      <td>0.123380</td>\n",
              "      <td>0.968277</td>\n",
              "      <td>0.968163</td>\n",
              "      <td>0.968866</td>\n",
              "      <td>0.968277</td>\n",
              "    </tr>\n",
              "    <tr>\n",
              "      <td>2</td>\n",
              "      <td>No log</td>\n",
              "      <td>0.097493</td>\n",
              "      <td>0.974766</td>\n",
              "      <td>0.974819</td>\n",
              "      <td>0.975183</td>\n",
              "      <td>0.974766</td>\n",
              "    </tr>\n",
              "  </tbody>\n",
              "</table><p>"
            ],
            "text/plain": [
              "<IPython.core.display.HTML object>"
            ]
          },
          "metadata": {},
          "output_type": "display_data"
        },
        {
          "data": {
            "text/html": [
              "\n",
              "    <div>\n",
              "      \n",
              "      <progress value='87' max='87' style='width:300px; height:20px; vertical-align: middle;'></progress>\n",
              "      [87/87 00:10]\n",
              "    </div>\n",
              "    "
            ],
            "text/plain": [
              "<IPython.core.display.HTML object>"
            ]
          },
          "metadata": {},
          "output_type": "display_data"
        },
        {
          "metadata": {
            "tags": null
          },
          "name": "stdout",
          "output_type": "stream",
          "text": [
            "Starting fold 2...\n"
          ]
        },
        {
          "data": {
            "text/html": [
              "\n",
              "    <div>\n",
              "      \n",
              "      <progress value='348' max='348' style='width:300px; height:20px; vertical-align: middle;'></progress>\n",
              "      [348/348 06:17, Epoch 2/2]\n",
              "    </div>\n",
              "    <table border=\"1\" class=\"dataframe\">\n",
              "  <thead>\n",
              " <tr style=\"text-align: left;\">\n",
              "      <th>Epoch</th>\n",
              "      <th>Training Loss</th>\n",
              "      <th>Validation Loss</th>\n",
              "      <th>Accuracy</th>\n",
              "      <th>F1</th>\n",
              "      <th>Precision</th>\n",
              "      <th>Recall</th>\n",
              "    </tr>\n",
              "  </thead>\n",
              "  <tbody>\n",
              "    <tr>\n",
              "      <td>1</td>\n",
              "      <td>No log</td>\n",
              "      <td>0.086527</td>\n",
              "      <td>0.972603</td>\n",
              "      <td>0.972502</td>\n",
              "      <td>0.972518</td>\n",
              "      <td>0.972603</td>\n",
              "    </tr>\n",
              "    <tr>\n",
              "      <td>2</td>\n",
              "      <td>No log</td>\n",
              "      <td>0.056578</td>\n",
              "      <td>0.982696</td>\n",
              "      <td>0.982886</td>\n",
              "      <td>0.983664</td>\n",
              "      <td>0.982696</td>\n",
              "    </tr>\n",
              "  </tbody>\n",
              "</table><p>"
            ],
            "text/plain": [
              "<IPython.core.display.HTML object>"
            ]
          },
          "metadata": {},
          "output_type": "display_data"
        },
        {
          "data": {
            "text/html": [
              "\n",
              "    <div>\n",
              "      \n",
              "      <progress value='87' max='87' style='width:300px; height:20px; vertical-align: middle;'></progress>\n",
              "      [87/87 00:10]\n",
              "    </div>\n",
              "    "
            ],
            "text/plain": [
              "<IPython.core.display.HTML object>"
            ]
          },
          "metadata": {},
          "output_type": "display_data"
        },
        {
          "metadata": {
            "tags": null
          },
          "name": "stdout",
          "output_type": "stream",
          "text": [
            "Starting fold 3...\n"
          ]
        },
        {
          "data": {
            "text/html": [
              "\n",
              "    <div>\n",
              "      \n",
              "      <progress value='348' max='348' style='width:300px; height:20px; vertical-align: middle;'></progress>\n",
              "      [348/348 06:12, Epoch 2/2]\n",
              "    </div>\n",
              "    <table border=\"1\" class=\"dataframe\">\n",
              "  <thead>\n",
              " <tr style=\"text-align: left;\">\n",
              "      <th>Epoch</th>\n",
              "      <th>Training Loss</th>\n",
              "      <th>Validation Loss</th>\n",
              "      <th>Accuracy</th>\n",
              "      <th>F1</th>\n",
              "      <th>Precision</th>\n",
              "      <th>Recall</th>\n",
              "    </tr>\n",
              "  </thead>\n",
              "  <tbody>\n",
              "    <tr>\n",
              "      <td>1</td>\n",
              "      <td>No log</td>\n",
              "      <td>0.089354</td>\n",
              "      <td>0.974766</td>\n",
              "      <td>0.974896</td>\n",
              "      <td>0.975227</td>\n",
              "      <td>0.974766</td>\n",
              "    </tr>\n",
              "    <tr>\n",
              "      <td>2</td>\n",
              "      <td>No log</td>\n",
              "      <td>0.081145</td>\n",
              "      <td>0.977650</td>\n",
              "      <td>0.977739</td>\n",
              "      <td>0.978301</td>\n",
              "      <td>0.977650</td>\n",
              "    </tr>\n",
              "  </tbody>\n",
              "</table><p>"
            ],
            "text/plain": [
              "<IPython.core.display.HTML object>"
            ]
          },
          "metadata": {},
          "output_type": "display_data"
        },
        {
          "data": {
            "text/html": [
              "\n",
              "    <div>\n",
              "      \n",
              "      <progress value='87' max='87' style='width:300px; height:20px; vertical-align: middle;'></progress>\n",
              "      [87/87 00:10]\n",
              "    </div>\n",
              "    "
            ],
            "text/plain": [
              "<IPython.core.display.HTML object>"
            ]
          },
          "metadata": {},
          "output_type": "display_data"
        },
        {
          "metadata": {
            "tags": null
          },
          "name": "stdout",
          "output_type": "stream",
          "text": [
            "Starting fold 4...\n"
          ]
        },
        {
          "data": {
            "text/html": [
              "\n",
              "    <div>\n",
              "      \n",
              "      <progress value='348' max='348' style='width:300px; height:20px; vertical-align: middle;'></progress>\n",
              "      [348/348 06:17, Epoch 2/2]\n",
              "    </div>\n",
              "    <table border=\"1\" class=\"dataframe\">\n",
              "  <thead>\n",
              " <tr style=\"text-align: left;\">\n",
              "      <th>Epoch</th>\n",
              "      <th>Training Loss</th>\n",
              "      <th>Validation Loss</th>\n",
              "      <th>Accuracy</th>\n",
              "      <th>F1</th>\n",
              "      <th>Precision</th>\n",
              "      <th>Recall</th>\n",
              "    </tr>\n",
              "  </thead>\n",
              "  <tbody>\n",
              "    <tr>\n",
              "      <td>1</td>\n",
              "      <td>No log</td>\n",
              "      <td>0.052011</td>\n",
              "      <td>0.984848</td>\n",
              "      <td>0.984901</td>\n",
              "      <td>0.985184</td>\n",
              "      <td>0.984848</td>\n",
              "    </tr>\n",
              "    <tr>\n",
              "      <td>2</td>\n",
              "      <td>No log</td>\n",
              "      <td>0.026197</td>\n",
              "      <td>0.992785</td>\n",
              "      <td>0.992813</td>\n",
              "      <td>0.992935</td>\n",
              "      <td>0.992785</td>\n",
              "    </tr>\n",
              "  </tbody>\n",
              "</table><p>"
            ],
            "text/plain": [
              "<IPython.core.display.HTML object>"
            ]
          },
          "metadata": {},
          "output_type": "display_data"
        },
        {
          "data": {
            "text/html": [
              "\n",
              "    <div>\n",
              "      \n",
              "      <progress value='87' max='87' style='width:300px; height:20px; vertical-align: middle;'></progress>\n",
              "      [87/87 00:10]\n",
              "    </div>\n",
              "    "
            ],
            "text/plain": [
              "<IPython.core.display.HTML object>"
            ]
          },
          "metadata": {},
          "output_type": "display_data"
        },
        {
          "metadata": {
            "tags": null
          },
          "name": "stdout",
          "output_type": "stream",
          "text": [
            "Starting fold 5...\n"
          ]
        },
        {
          "data": {
            "text/html": [
              "\n",
              "    <div>\n",
              "      \n",
              "      <progress value='348' max='348' style='width:300px; height:20px; vertical-align: middle;'></progress>\n",
              "      [348/348 06:16, Epoch 2/2]\n",
              "    </div>\n",
              "    <table border=\"1\" class=\"dataframe\">\n",
              "  <thead>\n",
              " <tr style=\"text-align: left;\">\n",
              "      <th>Epoch</th>\n",
              "      <th>Training Loss</th>\n",
              "      <th>Validation Loss</th>\n",
              "      <th>Accuracy</th>\n",
              "      <th>F1</th>\n",
              "      <th>Precision</th>\n",
              "      <th>Recall</th>\n",
              "    </tr>\n",
              "  </thead>\n",
              "  <tbody>\n",
              "    <tr>\n",
              "      <td>1</td>\n",
              "      <td>No log</td>\n",
              "      <td>0.059898</td>\n",
              "      <td>0.984848</td>\n",
              "      <td>0.984968</td>\n",
              "      <td>0.985665</td>\n",
              "      <td>0.984848</td>\n",
              "    </tr>\n",
              "    <tr>\n",
              "      <td>2</td>\n",
              "      <td>No log</td>\n",
              "      <td>0.022515</td>\n",
              "      <td>0.992063</td>\n",
              "      <td>0.992085</td>\n",
              "      <td>0.992181</td>\n",
              "      <td>0.992063</td>\n",
              "    </tr>\n",
              "  </tbody>\n",
              "</table><p>"
            ],
            "text/plain": [
              "<IPython.core.display.HTML object>"
            ]
          },
          "metadata": {},
          "output_type": "display_data"
        },
        {
          "data": {
            "text/html": [
              "\n",
              "    <div>\n",
              "      \n",
              "      <progress value='87' max='87' style='width:300px; height:20px; vertical-align: middle;'></progress>\n",
              "      [87/87 00:10]\n",
              "    </div>\n",
              "    "
            ],
            "text/plain": [
              "<IPython.core.display.HTML object>"
            ]
          },
          "metadata": {},
          "output_type": "display_data"
        },
        {
          "metadata": {
            "tags": null
          },
          "name": "stderr",
          "output_type": "stream",
          "text": [
            "[I 2024-07-09 07:24:34,961] Trial 0 finished with value: 0.056785577535629274 and parameters: {'learning_rate': 2.9912691559155184e-05, 'num_train_epochs': 2, 'per_device_train_batch_size': 32, 'gradient_accumulation_steps': 1, 'weight_decay': 0.12046589013002564, 'warmup_steps': 131}. Best is trial 0 with value: 0.056785577535629274.\n",
            "/usr/local/lib/python3.10/dist-packages/transformers/training_args.py:1474: FutureWarning: `evaluation_strategy` is deprecated and will be removed in version 4.46 of 🤗 Transformers. Use `eval_strategy` instead\n",
            "  warnings.warn(\n"
          ]
        },
        {
          "metadata": {
            "tags": null
          },
          "name": "stdout",
          "output_type": "stream",
          "text": [
            "Starting fold 1...\n"
          ]
        },
        {
          "data": {
            "text/html": [
              "\n",
              "    <div>\n",
              "      \n",
              "      <progress value='2082' max='2082' style='width:300px; height:20px; vertical-align: middle;'></progress>\n",
              "      [2082/2082 12:25, Epoch 3/3]\n",
              "    </div>\n",
              "    <table border=\"1\" class=\"dataframe\">\n",
              "  <thead>\n",
              " <tr style=\"text-align: left;\">\n",
              "      <th>Epoch</th>\n",
              "      <th>Training Loss</th>\n",
              "      <th>Validation Loss</th>\n",
              "      <th>Accuracy</th>\n",
              "      <th>F1</th>\n",
              "      <th>Precision</th>\n",
              "      <th>Recall</th>\n",
              "    </tr>\n",
              "  </thead>\n",
              "  <tbody>\n",
              "    <tr>\n",
              "      <td>1</td>\n",
              "      <td>0.339700</td>\n",
              "      <td>0.317128</td>\n",
              "      <td>0.927181</td>\n",
              "      <td>0.928170</td>\n",
              "      <td>0.932633</td>\n",
              "      <td>0.927181</td>\n",
              "    </tr>\n",
              "    <tr>\n",
              "      <td>2</td>\n",
              "      <td>0.333400</td>\n",
              "      <td>0.208237</td>\n",
              "      <td>0.948810</td>\n",
              "      <td>0.948869</td>\n",
              "      <td>0.949109</td>\n",
              "      <td>0.948810</td>\n",
              "    </tr>\n",
              "    <tr>\n",
              "      <td>3</td>\n",
              "      <td>0.095700</td>\n",
              "      <td>0.165383</td>\n",
              "      <td>0.963951</td>\n",
              "      <td>0.963979</td>\n",
              "      <td>0.964140</td>\n",
              "      <td>0.963951</td>\n",
              "    </tr>\n",
              "  </tbody>\n",
              "</table><p>"
            ],
            "text/plain": [
              "<IPython.core.display.HTML object>"
            ]
          },
          "metadata": {},
          "output_type": "display_data"
        },
        {
          "data": {
            "text/html": [
              "\n",
              "    <div>\n",
              "      \n",
              "      <progress value='87' max='87' style='width:300px; height:20px; vertical-align: middle;'></progress>\n",
              "      [87/87 00:11]\n",
              "    </div>\n",
              "    "
            ],
            "text/plain": [
              "<IPython.core.display.HTML object>"
            ]
          },
          "metadata": {},
          "output_type": "display_data"
        },
        {
          "metadata": {
            "tags": null
          },
          "name": "stdout",
          "output_type": "stream",
          "text": [
            "Starting fold 2...\n"
          ]
        },
        {
          "data": {
            "text/html": [
              "\n",
              "    <div>\n",
              "      \n",
              "      <progress value='2082' max='2082' style='width:300px; height:20px; vertical-align: middle;'></progress>\n",
              "      [2082/2082 12:30, Epoch 3/3]\n",
              "    </div>\n",
              "    <table border=\"1\" class=\"dataframe\">\n",
              "  <thead>\n",
              " <tr style=\"text-align: left;\">\n",
              "      <th>Epoch</th>\n",
              "      <th>Training Loss</th>\n",
              "      <th>Validation Loss</th>\n",
              "      <th>Accuracy</th>\n",
              "      <th>F1</th>\n",
              "      <th>Precision</th>\n",
              "      <th>Recall</th>\n",
              "    </tr>\n",
              "  </thead>\n",
              "  <tbody>\n",
              "    <tr>\n",
              "      <td>1</td>\n",
              "      <td>0.387900</td>\n",
              "      <td>0.367698</td>\n",
              "      <td>0.913482</td>\n",
              "      <td>0.913738</td>\n",
              "      <td>0.920301</td>\n",
              "      <td>0.913482</td>\n",
              "    </tr>\n",
              "    <tr>\n",
              "      <td>2</td>\n",
              "      <td>0.296400</td>\n",
              "      <td>0.209227</td>\n",
              "      <td>0.957462</td>\n",
              "      <td>0.957493</td>\n",
              "      <td>0.957972</td>\n",
              "      <td>0.957462</td>\n",
              "    </tr>\n",
              "    <tr>\n",
              "      <td>3</td>\n",
              "      <td>0.083300</td>\n",
              "      <td>0.171157</td>\n",
              "      <td>0.963230</td>\n",
              "      <td>0.963463</td>\n",
              "      <td>0.964533</td>\n",
              "      <td>0.963230</td>\n",
              "    </tr>\n",
              "  </tbody>\n",
              "</table><p>"
            ],
            "text/plain": [
              "<IPython.core.display.HTML object>"
            ]
          },
          "metadata": {},
          "output_type": "display_data"
        },
        {
          "data": {
            "text/html": [
              "\n",
              "    <div>\n",
              "      \n",
              "      <progress value='87' max='87' style='width:300px; height:20px; vertical-align: middle;'></progress>\n",
              "      [87/87 00:10]\n",
              "    </div>\n",
              "    "
            ],
            "text/plain": [
              "<IPython.core.display.HTML object>"
            ]
          },
          "metadata": {},
          "output_type": "display_data"
        },
        {
          "metadata": {
            "tags": null
          },
          "name": "stdout",
          "output_type": "stream",
          "text": [
            "Starting fold 3...\n"
          ]
        },
        {
          "data": {
            "text/html": [
              "\n",
              "    <div>\n",
              "      \n",
              "      <progress value='2082' max='2082' style='width:300px; height:20px; vertical-align: middle;'></progress>\n",
              "      [2082/2082 12:26, Epoch 3/3]\n",
              "    </div>\n",
              "    <table border=\"1\" class=\"dataframe\">\n",
              "  <thead>\n",
              " <tr style=\"text-align: left;\">\n",
              "      <th>Epoch</th>\n",
              "      <th>Training Loss</th>\n",
              "      <th>Validation Loss</th>\n",
              "      <th>Accuracy</th>\n",
              "      <th>F1</th>\n",
              "      <th>Precision</th>\n",
              "      <th>Recall</th>\n",
              "    </tr>\n",
              "  </thead>\n",
              "  <tbody>\n",
              "    <tr>\n",
              "      <td>1</td>\n",
              "      <td>0.335400</td>\n",
              "      <td>0.408465</td>\n",
              "      <td>0.903389</td>\n",
              "      <td>0.903542</td>\n",
              "      <td>0.908494</td>\n",
              "      <td>0.903389</td>\n",
              "    </tr>\n",
              "    <tr>\n",
              "      <td>2</td>\n",
              "      <td>0.311800</td>\n",
              "      <td>0.262810</td>\n",
              "      <td>0.946647</td>\n",
              "      <td>0.946749</td>\n",
              "      <td>0.947405</td>\n",
              "      <td>0.946647</td>\n",
              "    </tr>\n",
              "    <tr>\n",
              "      <td>3</td>\n",
              "      <td>0.116100</td>\n",
              "      <td>0.156784</td>\n",
              "      <td>0.967556</td>\n",
              "      <td>0.967673</td>\n",
              "      <td>0.967950</td>\n",
              "      <td>0.967556</td>\n",
              "    </tr>\n",
              "  </tbody>\n",
              "</table><p>"
            ],
            "text/plain": [
              "<IPython.core.display.HTML object>"
            ]
          },
          "metadata": {},
          "output_type": "display_data"
        },
        {
          "data": {
            "text/html": [
              "\n",
              "    <div>\n",
              "      \n",
              "      <progress value='87' max='87' style='width:300px; height:20px; vertical-align: middle;'></progress>\n",
              "      [87/87 00:10]\n",
              "    </div>\n",
              "    "
            ],
            "text/plain": [
              "<IPython.core.display.HTML object>"
            ]
          },
          "metadata": {},
          "output_type": "display_data"
        },
        {
          "metadata": {
            "tags": null
          },
          "name": "stdout",
          "output_type": "stream",
          "text": [
            "Starting fold 4...\n"
          ]
        },
        {
          "data": {
            "text/html": [
              "\n",
              "    <div>\n",
              "      \n",
              "      <progress value='2082' max='2082' style='width:300px; height:20px; vertical-align: middle;'></progress>\n",
              "      [2082/2082 12:27, Epoch 3/3]\n",
              "    </div>\n",
              "    <table border=\"1\" class=\"dataframe\">\n",
              "  <thead>\n",
              " <tr style=\"text-align: left;\">\n",
              "      <th>Epoch</th>\n",
              "      <th>Training Loss</th>\n",
              "      <th>Validation Loss</th>\n",
              "      <th>Accuracy</th>\n",
              "      <th>F1</th>\n",
              "      <th>Precision</th>\n",
              "      <th>Recall</th>\n",
              "    </tr>\n",
              "  </thead>\n",
              "  <tbody>\n",
              "    <tr>\n",
              "      <td>1</td>\n",
              "      <td>0.435300</td>\n",
              "      <td>0.144224</td>\n",
              "      <td>0.955988</td>\n",
              "      <td>0.956145</td>\n",
              "      <td>0.957725</td>\n",
              "      <td>0.955988</td>\n",
              "    </tr>\n",
              "    <tr>\n",
              "      <td>2</td>\n",
              "      <td>0.343200</td>\n",
              "      <td>0.100603</td>\n",
              "      <td>0.975469</td>\n",
              "      <td>0.975525</td>\n",
              "      <td>0.975756</td>\n",
              "      <td>0.975469</td>\n",
              "    </tr>\n",
              "    <tr>\n",
              "      <td>3</td>\n",
              "      <td>0.112900</td>\n",
              "      <td>0.096626</td>\n",
              "      <td>0.978355</td>\n",
              "      <td>0.978530</td>\n",
              "      <td>0.979144</td>\n",
              "      <td>0.978355</td>\n",
              "    </tr>\n",
              "  </tbody>\n",
              "</table><p>"
            ],
            "text/plain": [
              "<IPython.core.display.HTML object>"
            ]
          },
          "metadata": {},
          "output_type": "display_data"
        },
        {
          "data": {
            "text/html": [
              "\n",
              "    <div>\n",
              "      \n",
              "      <progress value='87' max='87' style='width:300px; height:20px; vertical-align: middle;'></progress>\n",
              "      [87/87 00:10]\n",
              "    </div>\n",
              "    "
            ],
            "text/plain": [
              "<IPython.core.display.HTML object>"
            ]
          },
          "metadata": {},
          "output_type": "display_data"
        },
        {
          "metadata": {
            "tags": null
          },
          "name": "stdout",
          "output_type": "stream",
          "text": [
            "Starting fold 5...\n"
          ]
        },
        {
          "data": {
            "text/html": [
              "\n",
              "    <div>\n",
              "      \n",
              "      <progress value='2082' max='2082' style='width:300px; height:20px; vertical-align: middle;'></progress>\n",
              "      [2082/2082 12:23, Epoch 3/3]\n",
              "    </div>\n",
              "    <table border=\"1\" class=\"dataframe\">\n",
              "  <thead>\n",
              " <tr style=\"text-align: left;\">\n",
              "      <th>Epoch</th>\n",
              "      <th>Training Loss</th>\n",
              "      <th>Validation Loss</th>\n",
              "      <th>Accuracy</th>\n",
              "      <th>F1</th>\n",
              "      <th>Precision</th>\n",
              "      <th>Recall</th>\n",
              "    </tr>\n",
              "  </thead>\n",
              "  <tbody>\n",
              "    <tr>\n",
              "      <td>1</td>\n",
              "      <td>0.387500</td>\n",
              "      <td>0.187177</td>\n",
              "      <td>0.942280</td>\n",
              "      <td>0.942433</td>\n",
              "      <td>0.944450</td>\n",
              "      <td>0.942280</td>\n",
              "    </tr>\n",
              "    <tr>\n",
              "      <td>2</td>\n",
              "      <td>0.363700</td>\n",
              "      <td>0.156376</td>\n",
              "      <td>0.965368</td>\n",
              "      <td>0.965477</td>\n",
              "      <td>0.966273</td>\n",
              "      <td>0.965368</td>\n",
              "    </tr>\n",
              "    <tr>\n",
              "      <td>3</td>\n",
              "      <td>0.116000</td>\n",
              "      <td>0.102129</td>\n",
              "      <td>0.976912</td>\n",
              "      <td>0.976962</td>\n",
              "      <td>0.977140</td>\n",
              "      <td>0.976912</td>\n",
              "    </tr>\n",
              "  </tbody>\n",
              "</table><p>"
            ],
            "text/plain": [
              "<IPython.core.display.HTML object>"
            ]
          },
          "metadata": {},
          "output_type": "display_data"
        },
        {
          "data": {
            "text/html": [
              "\n",
              "    <div>\n",
              "      \n",
              "      <progress value='87' max='87' style='width:300px; height:20px; vertical-align: middle;'></progress>\n",
              "      [87/87 00:10]\n",
              "    </div>\n",
              "    "
            ],
            "text/plain": [
              "<IPython.core.display.HTML object>"
            ]
          },
          "metadata": {},
          "output_type": "display_data"
        },
        {
          "metadata": {
            "tags": null
          },
          "name": "stderr",
          "output_type": "stream",
          "text": [
            "[I 2024-07-09 08:27:52,883] Trial 1 finished with value: 0.13841579854488373 and parameters: {'learning_rate': 4.1125002663135036e-05, 'num_train_epochs': 3, 'per_device_train_batch_size': 8, 'gradient_accumulation_steps': 1, 'weight_decay': 0.16900923416485533, 'warmup_steps': 158}. Best is trial 0 with value: 0.056785577535629274.\n",
            "/usr/local/lib/python3.10/dist-packages/transformers/training_args.py:1474: FutureWarning: `evaluation_strategy` is deprecated and will be removed in version 4.46 of 🤗 Transformers. Use `eval_strategy` instead\n",
            "  warnings.warn(\n"
          ]
        },
        {
          "metadata": {
            "tags": null
          },
          "name": "stdout",
          "output_type": "stream",
          "text": [
            "Starting fold 1...\n"
          ]
        },
        {
          "data": {
            "text/html": [
              "\n",
              "    <div>\n",
              "      \n",
              "      <progress value='346' max='346' style='width:300px; height:20px; vertical-align: middle;'></progress>\n",
              "      [346/346 07:28, Epoch 1/2]\n",
              "    </div>\n",
              "    <table border=\"1\" class=\"dataframe\">\n",
              "  <thead>\n",
              " <tr style=\"text-align: left;\">\n",
              "      <th>Epoch</th>\n",
              "      <th>Training Loss</th>\n",
              "      <th>Validation Loss</th>\n",
              "      <th>Accuracy</th>\n",
              "      <th>F1</th>\n",
              "      <th>Precision</th>\n",
              "      <th>Recall</th>\n",
              "    </tr>\n",
              "  </thead>\n",
              "  <tbody>\n",
              "    <tr>\n",
              "      <td>0</td>\n",
              "      <td>No log</td>\n",
              "      <td>0.122757</td>\n",
              "      <td>0.972603</td>\n",
              "      <td>0.972714</td>\n",
              "      <td>0.973319</td>\n",
              "      <td>0.972603</td>\n",
              "    </tr>\n",
              "    <tr>\n",
              "      <td>1</td>\n",
              "      <td>No log</td>\n",
              "      <td>0.094673</td>\n",
              "      <td>0.973324</td>\n",
              "      <td>0.973366</td>\n",
              "      <td>0.973757</td>\n",
              "      <td>0.973324</td>\n",
              "    </tr>\n",
              "  </tbody>\n",
              "</table><p>"
            ],
            "text/plain": [
              "<IPython.core.display.HTML object>"
            ]
          },
          "metadata": {},
          "output_type": "display_data"
        },
        {
          "data": {
            "text/html": [
              "\n",
              "    <div>\n",
              "      \n",
              "      <progress value='87' max='87' style='width:300px; height:20px; vertical-align: middle;'></progress>\n",
              "      [87/87 00:10]\n",
              "    </div>\n",
              "    "
            ],
            "text/plain": [
              "<IPython.core.display.HTML object>"
            ]
          },
          "metadata": {},
          "output_type": "display_data"
        },
        {
          "metadata": {
            "tags": null
          },
          "name": "stdout",
          "output_type": "stream",
          "text": [
            "Starting fold 2...\n"
          ]
        },
        {
          "data": {
            "text/html": [
              "\n",
              "    <div>\n",
              "      \n",
              "      <progress value='346' max='346' style='width:300px; height:20px; vertical-align: middle;'></progress>\n",
              "      [346/346 06:24, Epoch 1/2]\n",
              "    </div>\n",
              "    <table border=\"1\" class=\"dataframe\">\n",
              "  <thead>\n",
              " <tr style=\"text-align: left;\">\n",
              "      <th>Epoch</th>\n",
              "      <th>Training Loss</th>\n",
              "      <th>Validation Loss</th>\n",
              "      <th>Accuracy</th>\n",
              "      <th>F1</th>\n",
              "      <th>Precision</th>\n",
              "      <th>Recall</th>\n",
              "    </tr>\n",
              "  </thead>\n",
              "  <tbody>\n",
              "    <tr>\n",
              "      <td>0</td>\n",
              "      <td>No log</td>\n",
              "      <td>0.071739</td>\n",
              "      <td>0.979813</td>\n",
              "      <td>0.979896</td>\n",
              "      <td>0.980266</td>\n",
              "      <td>0.979813</td>\n",
              "    </tr>\n",
              "    <tr>\n",
              "      <td>1</td>\n",
              "      <td>No log</td>\n",
              "      <td>0.089338</td>\n",
              "      <td>0.977650</td>\n",
              "      <td>0.977844</td>\n",
              "      <td>0.978671</td>\n",
              "      <td>0.977650</td>\n",
              "    </tr>\n",
              "  </tbody>\n",
              "</table><p>"
            ],
            "text/plain": [
              "<IPython.core.display.HTML object>"
            ]
          },
          "metadata": {},
          "output_type": "display_data"
        },
        {
          "data": {
            "text/html": [
              "\n",
              "    <div>\n",
              "      \n",
              "      <progress value='87' max='87' style='width:300px; height:20px; vertical-align: middle;'></progress>\n",
              "      [87/87 00:10]\n",
              "    </div>\n",
              "    "
            ],
            "text/plain": [
              "<IPython.core.display.HTML object>"
            ]
          },
          "metadata": {},
          "output_type": "display_data"
        },
        {
          "metadata": {
            "tags": null
          },
          "name": "stdout",
          "output_type": "stream",
          "text": [
            "Starting fold 3...\n"
          ]
        },
        {
          "data": {
            "text/html": [
              "\n",
              "    <div>\n",
              "      \n",
              "      <progress value='346' max='346' style='width:300px; height:20px; vertical-align: middle;'></progress>\n",
              "      [346/346 06:20, Epoch 1/2]\n",
              "    </div>\n",
              "    <table border=\"1\" class=\"dataframe\">\n",
              "  <thead>\n",
              " <tr style=\"text-align: left;\">\n",
              "      <th>Epoch</th>\n",
              "      <th>Training Loss</th>\n",
              "      <th>Validation Loss</th>\n",
              "      <th>Accuracy</th>\n",
              "      <th>F1</th>\n",
              "      <th>Precision</th>\n",
              "      <th>Recall</th>\n",
              "    </tr>\n",
              "  </thead>\n",
              "  <tbody>\n",
              "    <tr>\n",
              "      <td>0</td>\n",
              "      <td>No log</td>\n",
              "      <td>0.127962</td>\n",
              "      <td>0.972603</td>\n",
              "      <td>0.973065</td>\n",
              "      <td>0.974883</td>\n",
              "      <td>0.972603</td>\n",
              "    </tr>\n",
              "    <tr>\n",
              "      <td>1</td>\n",
              "      <td>No log</td>\n",
              "      <td>0.113232</td>\n",
              "      <td>0.974045</td>\n",
              "      <td>0.974014</td>\n",
              "      <td>0.974599</td>\n",
              "      <td>0.974045</td>\n",
              "    </tr>\n",
              "  </tbody>\n",
              "</table><p>"
            ],
            "text/plain": [
              "<IPython.core.display.HTML object>"
            ]
          },
          "metadata": {},
          "output_type": "display_data"
        },
        {
          "data": {
            "text/html": [
              "\n",
              "    <div>\n",
              "      \n",
              "      <progress value='87' max='87' style='width:300px; height:20px; vertical-align: middle;'></progress>\n",
              "      [87/87 00:10]\n",
              "    </div>\n",
              "    "
            ],
            "text/plain": [
              "<IPython.core.display.HTML object>"
            ]
          },
          "metadata": {},
          "output_type": "display_data"
        },
        {
          "metadata": {
            "tags": null
          },
          "name": "stdout",
          "output_type": "stream",
          "text": [
            "Starting fold 4...\n"
          ]
        },
        {
          "data": {
            "text/html": [
              "\n",
              "    <div>\n",
              "      \n",
              "      <progress value='346' max='346' style='width:300px; height:20px; vertical-align: middle;'></progress>\n",
              "      [346/346 06:20, Epoch 1/2]\n",
              "    </div>\n",
              "    <table border=\"1\" class=\"dataframe\">\n",
              "  <thead>\n",
              " <tr style=\"text-align: left;\">\n",
              "      <th>Epoch</th>\n",
              "      <th>Training Loss</th>\n",
              "      <th>Validation Loss</th>\n",
              "      <th>Accuracy</th>\n",
              "      <th>F1</th>\n",
              "      <th>Precision</th>\n",
              "      <th>Recall</th>\n",
              "    </tr>\n",
              "  </thead>\n",
              "  <tbody>\n",
              "    <tr>\n",
              "      <td>0</td>\n",
              "      <td>No log</td>\n",
              "      <td>0.043887</td>\n",
              "      <td>0.986291</td>\n",
              "      <td>0.986327</td>\n",
              "      <td>0.986846</td>\n",
              "      <td>0.986291</td>\n",
              "    </tr>\n",
              "    <tr>\n",
              "      <td>1</td>\n",
              "      <td>No log</td>\n",
              "      <td>0.042417</td>\n",
              "      <td>0.989177</td>\n",
              "      <td>0.989197</td>\n",
              "      <td>0.989258</td>\n",
              "      <td>0.989177</td>\n",
              "    </tr>\n",
              "  </tbody>\n",
              "</table><p>"
            ],
            "text/plain": [
              "<IPython.core.display.HTML object>"
            ]
          },
          "metadata": {},
          "output_type": "display_data"
        },
        {
          "data": {
            "text/html": [
              "\n",
              "    <div>\n",
              "      \n",
              "      <progress value='87' max='87' style='width:300px; height:20px; vertical-align: middle;'></progress>\n",
              "      [87/87 00:10]\n",
              "    </div>\n",
              "    "
            ],
            "text/plain": [
              "<IPython.core.display.HTML object>"
            ]
          },
          "metadata": {},
          "output_type": "display_data"
        },
        {
          "metadata": {
            "tags": null
          },
          "name": "stdout",
          "output_type": "stream",
          "text": [
            "Starting fold 5...\n"
          ]
        },
        {
          "data": {
            "text/html": [
              "\n",
              "    <div>\n",
              "      \n",
              "      <progress value='155' max='346' style='width:300px; height:20px; vertical-align: middle;'></progress>\n",
              "      [155/346 02:27 < 03:03, 1.04 it/s, Epoch 0.89/2]\n",
              "    </div>\n",
              "    <table border=\"1\" class=\"dataframe\">\n",
              "  <thead>\n",
              " <tr style=\"text-align: left;\">\n",
              "      <th>Epoch</th>\n",
              "      <th>Training Loss</th>\n",
              "      <th>Validation Loss</th>\n",
              "    </tr>\n",
              "  </thead>\n",
              "  <tbody>\n",
              "  </tbody>\n",
              "</table><p>"
            ],
            "text/plain": [
              "<IPython.core.display.HTML object>"
            ]
          },
          "metadata": {},
          "output_type": "display_data"
        },
        {
          "output_type": "display_data",
          "data": {
            "text/plain": [
              "<IPython.core.display.HTML object>"
            ],
            "text/html": [
              "\n",
              "    <div>\n",
              "      \n",
              "      <progress value='346' max='346' style='width:300px; height:20px; vertical-align: middle;'></progress>\n",
              "      [346/346 06:19, Epoch 1/2]\n",
              "    </div>\n",
              "    <table border=\"1\" class=\"dataframe\">\n",
              "  <thead>\n",
              " <tr style=\"text-align: left;\">\n",
              "      <th>Epoch</th>\n",
              "      <th>Training Loss</th>\n",
              "      <th>Validation Loss</th>\n",
              "      <th>Accuracy</th>\n",
              "      <th>F1</th>\n",
              "      <th>Precision</th>\n",
              "      <th>Recall</th>\n",
              "    </tr>\n",
              "  </thead>\n",
              "  <tbody>\n",
              "    <tr>\n",
              "      <td>0</td>\n",
              "      <td>No log</td>\n",
              "      <td>0.028068</td>\n",
              "      <td>0.990620</td>\n",
              "      <td>0.990629</td>\n",
              "      <td>0.990652</td>\n",
              "      <td>0.990620</td>\n",
              "    </tr>\n",
              "    <tr>\n",
              "      <td>1</td>\n",
              "      <td>No log</td>\n",
              "      <td>0.034822</td>\n",
              "      <td>0.986291</td>\n",
              "      <td>0.986316</td>\n",
              "      <td>0.986396</td>\n",
              "      <td>0.986291</td>\n",
              "    </tr>\n",
              "  </tbody>\n",
              "</table><p>"
            ]
          },
          "metadata": {}
        },
        {
          "output_type": "display_data",
          "data": {
            "text/plain": [
              "<IPython.core.display.HTML object>"
            ],
            "text/html": [
              "\n",
              "    <div>\n",
              "      \n",
              "      <progress value='87' max='87' style='width:300px; height:20px; vertical-align: middle;'></progress>\n",
              "      [87/87 00:10]\n",
              "    </div>\n",
              "    "
            ]
          },
          "metadata": {}
        },
        {
          "output_type": "stream",
          "name": "stderr",
          "text": [
            "[I 2024-07-09 09:01:54,296] Trial 2 finished with value: 0.0700259231030941 and parameters: {'learning_rate': 3.275467105788013e-05, 'num_train_epochs': 2, 'per_device_train_batch_size': 8, 'gradient_accumulation_steps': 4, 'weight_decay': 0.29144429794914223, 'warmup_steps': 236}. Best is trial 0 with value: 0.056785577535629274.\n"
          ]
        }
      ]
    },
    {
      "cell_type": "code",
      "source": [
        "model_path = model_path_dn\n",
        "category_name = 'DN'\n",
        "study_dn.optimize(lambda trial: objective(trial, dataset_dn, model_path, category_name), n_trials=3)"
      ],
      "metadata": {
        "id": "oYCM9OfpNGwn",
        "colab": {
          "base_uri": "https://localhost:8080/",
          "height": 1000
        },
        "outputId": "c7be491b-98d2-4ca5-cc28-5356b921b677"
      },
      "execution_count": 15,
      "outputs": [
        {
          "output_type": "stream",
          "name": "stderr",
          "text": [
            "/usr/local/lib/python3.10/dist-packages/transformers/training_args.py:1474: FutureWarning: `evaluation_strategy` is deprecated and will be removed in version 4.46 of 🤗 Transformers. Use `eval_strategy` instead\n",
            "  warnings.warn(\n"
          ]
        },
        {
          "output_type": "stream",
          "name": "stdout",
          "text": [
            "Starting fold 1...\n"
          ]
        },
        {
          "output_type": "display_data",
          "data": {
            "text/plain": [
              "<IPython.core.display.HTML object>"
            ],
            "text/html": [
              "\n",
              "    <div>\n",
              "      \n",
              "      <progress value='148' max='148' style='width:300px; height:20px; vertical-align: middle;'></progress>\n",
              "      [148/148 02:19, Epoch 1/2]\n",
              "    </div>\n",
              "    <table border=\"1\" class=\"dataframe\">\n",
              "  <thead>\n",
              " <tr style=\"text-align: left;\">\n",
              "      <th>Epoch</th>\n",
              "      <th>Training Loss</th>\n",
              "      <th>Validation Loss</th>\n",
              "      <th>Accuracy</th>\n",
              "      <th>F1</th>\n",
              "      <th>Precision</th>\n",
              "      <th>Recall</th>\n",
              "    </tr>\n",
              "  </thead>\n",
              "  <tbody>\n",
              "    <tr>\n",
              "      <td>0</td>\n",
              "      <td>No log</td>\n",
              "      <td>0.217241</td>\n",
              "      <td>0.939732</td>\n",
              "      <td>0.940631</td>\n",
              "      <td>0.944527</td>\n",
              "      <td>0.939732</td>\n",
              "    </tr>\n",
              "    <tr>\n",
              "      <td>1</td>\n",
              "      <td>No log</td>\n",
              "      <td>0.199210</td>\n",
              "      <td>0.939732</td>\n",
              "      <td>0.940654</td>\n",
              "      <td>0.944307</td>\n",
              "      <td>0.939732</td>\n",
              "    </tr>\n",
              "  </tbody>\n",
              "</table><p>"
            ]
          },
          "metadata": {}
        },
        {
          "output_type": "display_data",
          "data": {
            "text/plain": [
              "<IPython.core.display.HTML object>"
            ],
            "text/html": [
              "\n",
              "    <div>\n",
              "      \n",
              "      <progress value='28' max='28' style='width:300px; height:20px; vertical-align: middle;'></progress>\n",
              "      [28/28 00:03]\n",
              "    </div>\n",
              "    "
            ]
          },
          "metadata": {}
        },
        {
          "output_type": "stream",
          "name": "stdout",
          "text": [
            "Starting fold 2...\n"
          ]
        },
        {
          "output_type": "display_data",
          "data": {
            "text/plain": [
              "<IPython.core.display.HTML object>"
            ],
            "text/html": [
              "\n",
              "    <div>\n",
              "      \n",
              "      <progress value='148' max='148' style='width:300px; height:20px; vertical-align: middle;'></progress>\n",
              "      [148/148 02:20, Epoch 1/2]\n",
              "    </div>\n",
              "    <table border=\"1\" class=\"dataframe\">\n",
              "  <thead>\n",
              " <tr style=\"text-align: left;\">\n",
              "      <th>Epoch</th>\n",
              "      <th>Training Loss</th>\n",
              "      <th>Validation Loss</th>\n",
              "      <th>Accuracy</th>\n",
              "      <th>F1</th>\n",
              "      <th>Precision</th>\n",
              "      <th>Recall</th>\n",
              "    </tr>\n",
              "  </thead>\n",
              "  <tbody>\n",
              "    <tr>\n",
              "      <td>0</td>\n",
              "      <td>No log</td>\n",
              "      <td>0.262886</td>\n",
              "      <td>0.928571</td>\n",
              "      <td>0.928251</td>\n",
              "      <td>0.930227</td>\n",
              "      <td>0.928571</td>\n",
              "    </tr>\n",
              "    <tr>\n",
              "      <td>1</td>\n",
              "      <td>No log</td>\n",
              "      <td>0.214142</td>\n",
              "      <td>0.944196</td>\n",
              "      <td>0.944214</td>\n",
              "      <td>0.946434</td>\n",
              "      <td>0.944196</td>\n",
              "    </tr>\n",
              "  </tbody>\n",
              "</table><p>"
            ]
          },
          "metadata": {}
        },
        {
          "output_type": "display_data",
          "data": {
            "text/plain": [
              "<IPython.core.display.HTML object>"
            ],
            "text/html": [
              "\n",
              "    <div>\n",
              "      \n",
              "      <progress value='28' max='28' style='width:300px; height:20px; vertical-align: middle;'></progress>\n",
              "      [28/28 00:03]\n",
              "    </div>\n",
              "    "
            ]
          },
          "metadata": {}
        },
        {
          "output_type": "stream",
          "name": "stdout",
          "text": [
            "Starting fold 3...\n"
          ]
        },
        {
          "output_type": "display_data",
          "data": {
            "text/plain": [
              "<IPython.core.display.HTML object>"
            ],
            "text/html": [
              "\n",
              "    <div>\n",
              "      \n",
              "      <progress value='148' max='148' style='width:300px; height:20px; vertical-align: middle;'></progress>\n",
              "      [148/148 02:21, Epoch 1/2]\n",
              "    </div>\n",
              "    <table border=\"1\" class=\"dataframe\">\n",
              "  <thead>\n",
              " <tr style=\"text-align: left;\">\n",
              "      <th>Epoch</th>\n",
              "      <th>Training Loss</th>\n",
              "      <th>Validation Loss</th>\n",
              "      <th>Accuracy</th>\n",
              "      <th>F1</th>\n",
              "      <th>Precision</th>\n",
              "      <th>Recall</th>\n",
              "    </tr>\n",
              "  </thead>\n",
              "  <tbody>\n",
              "    <tr>\n",
              "      <td>0</td>\n",
              "      <td>No log</td>\n",
              "      <td>0.171107</td>\n",
              "      <td>0.955357</td>\n",
              "      <td>0.954945</td>\n",
              "      <td>0.955984</td>\n",
              "      <td>0.955357</td>\n",
              "    </tr>\n",
              "    <tr>\n",
              "      <td>1</td>\n",
              "      <td>No log</td>\n",
              "      <td>0.159083</td>\n",
              "      <td>0.959821</td>\n",
              "      <td>0.959687</td>\n",
              "      <td>0.960042</td>\n",
              "      <td>0.959821</td>\n",
              "    </tr>\n",
              "  </tbody>\n",
              "</table><p>"
            ]
          },
          "metadata": {}
        },
        {
          "output_type": "display_data",
          "data": {
            "text/plain": [
              "<IPython.core.display.HTML object>"
            ],
            "text/html": [
              "\n",
              "    <div>\n",
              "      \n",
              "      <progress value='28' max='28' style='width:300px; height:20px; vertical-align: middle;'></progress>\n",
              "      [28/28 00:03]\n",
              "    </div>\n",
              "    "
            ]
          },
          "metadata": {}
        },
        {
          "output_type": "stream",
          "name": "stdout",
          "text": [
            "Starting fold 4...\n"
          ]
        },
        {
          "output_type": "display_data",
          "data": {
            "text/plain": [
              "<IPython.core.display.HTML object>"
            ],
            "text/html": [
              "\n",
              "    <div>\n",
              "      \n",
              "      <progress value='148' max='148' style='width:300px; height:20px; vertical-align: middle;'></progress>\n",
              "      [148/148 02:20, Epoch 1/2]\n",
              "    </div>\n",
              "    <table border=\"1\" class=\"dataframe\">\n",
              "  <thead>\n",
              " <tr style=\"text-align: left;\">\n",
              "      <th>Epoch</th>\n",
              "      <th>Training Loss</th>\n",
              "      <th>Validation Loss</th>\n",
              "      <th>Accuracy</th>\n",
              "      <th>F1</th>\n",
              "      <th>Precision</th>\n",
              "      <th>Recall</th>\n",
              "    </tr>\n",
              "  </thead>\n",
              "  <tbody>\n",
              "    <tr>\n",
              "      <td>0</td>\n",
              "      <td>No log</td>\n",
              "      <td>0.249271</td>\n",
              "      <td>0.946429</td>\n",
              "      <td>0.946357</td>\n",
              "      <td>0.948128</td>\n",
              "      <td>0.946429</td>\n",
              "    </tr>\n",
              "    <tr>\n",
              "      <td>1</td>\n",
              "      <td>No log</td>\n",
              "      <td>0.201864</td>\n",
              "      <td>0.955357</td>\n",
              "      <td>0.955248</td>\n",
              "      <td>0.955790</td>\n",
              "      <td>0.955357</td>\n",
              "    </tr>\n",
              "  </tbody>\n",
              "</table><p>"
            ]
          },
          "metadata": {}
        },
        {
          "output_type": "display_data",
          "data": {
            "text/plain": [
              "<IPython.core.display.HTML object>"
            ],
            "text/html": [
              "\n",
              "    <div>\n",
              "      \n",
              "      <progress value='28' max='28' style='width:300px; height:20px; vertical-align: middle;'></progress>\n",
              "      [28/28 00:03]\n",
              "    </div>\n",
              "    "
            ]
          },
          "metadata": {}
        },
        {
          "output_type": "stream",
          "name": "stdout",
          "text": [
            "Starting fold 5...\n"
          ]
        },
        {
          "output_type": "display_data",
          "data": {
            "text/plain": [
              "<IPython.core.display.HTML object>"
            ],
            "text/html": [
              "\n",
              "    <div>\n",
              "      \n",
              "      <progress value='148' max='148' style='width:300px; height:20px; vertical-align: middle;'></progress>\n",
              "      [148/148 02:23, Epoch 1/2]\n",
              "    </div>\n",
              "    <table border=\"1\" class=\"dataframe\">\n",
              "  <thead>\n",
              " <tr style=\"text-align: left;\">\n",
              "      <th>Epoch</th>\n",
              "      <th>Training Loss</th>\n",
              "      <th>Validation Loss</th>\n",
              "      <th>Accuracy</th>\n",
              "      <th>F1</th>\n",
              "      <th>Precision</th>\n",
              "      <th>Recall</th>\n",
              "    </tr>\n",
              "  </thead>\n",
              "  <tbody>\n",
              "    <tr>\n",
              "      <td>0</td>\n",
              "      <td>No log</td>\n",
              "      <td>0.230694</td>\n",
              "      <td>0.941964</td>\n",
              "      <td>0.939983</td>\n",
              "      <td>0.943825</td>\n",
              "      <td>0.941964</td>\n",
              "    </tr>\n",
              "    <tr>\n",
              "      <td>1</td>\n",
              "      <td>No log</td>\n",
              "      <td>0.210335</td>\n",
              "      <td>0.946429</td>\n",
              "      <td>0.946131</td>\n",
              "      <td>0.946722</td>\n",
              "      <td>0.946429</td>\n",
              "    </tr>\n",
              "  </tbody>\n",
              "</table><p>"
            ]
          },
          "metadata": {}
        },
        {
          "output_type": "display_data",
          "data": {
            "text/plain": [
              "<IPython.core.display.HTML object>"
            ],
            "text/html": [
              "\n",
              "    <div>\n",
              "      \n",
              "      <progress value='28' max='28' style='width:300px; height:20px; vertical-align: middle;'></progress>\n",
              "      [28/28 00:03]\n",
              "    </div>\n",
              "    "
            ]
          },
          "metadata": {}
        },
        {
          "output_type": "stream",
          "name": "stderr",
          "text": [
            "[I 2024-07-09 09:14:13,300] Trial 0 finished with value: 0.19692691564559936 and parameters: {'learning_rate': 2.984189879078095e-05, 'num_train_epochs': 2, 'per_device_train_batch_size': 8, 'gradient_accumulation_steps': 3, 'weight_decay': 0.04787734758822324, 'warmup_steps': 63}. Best is trial 0 with value: 0.19692691564559936.\n",
            "/usr/local/lib/python3.10/dist-packages/transformers/training_args.py:1474: FutureWarning: `evaluation_strategy` is deprecated and will be removed in version 4.46 of 🤗 Transformers. Use `eval_strategy` instead\n",
            "  warnings.warn(\n"
          ]
        },
        {
          "output_type": "stream",
          "name": "stdout",
          "text": [
            "Starting fold 1...\n"
          ]
        },
        {
          "output_type": "display_data",
          "data": {
            "text/plain": [
              "<IPython.core.display.HTML object>"
            ],
            "text/html": [
              "\n",
              "    <div>\n",
              "      \n",
              "      <progress value='56' max='56' style='width:300px; height:20px; vertical-align: middle;'></progress>\n",
              "      [56/56 02:07, Epoch 2/2]\n",
              "    </div>\n",
              "    <table border=\"1\" class=\"dataframe\">\n",
              "  <thead>\n",
              " <tr style=\"text-align: left;\">\n",
              "      <th>Epoch</th>\n",
              "      <th>Training Loss</th>\n",
              "      <th>Validation Loss</th>\n",
              "      <th>Accuracy</th>\n",
              "      <th>F1</th>\n",
              "      <th>Precision</th>\n",
              "      <th>Recall</th>\n",
              "    </tr>\n",
              "  </thead>\n",
              "  <tbody>\n",
              "    <tr>\n",
              "      <td>1</td>\n",
              "      <td>No log</td>\n",
              "      <td>0.175293</td>\n",
              "      <td>0.964286</td>\n",
              "      <td>0.964426</td>\n",
              "      <td>0.965547</td>\n",
              "      <td>0.964286</td>\n",
              "    </tr>\n",
              "    <tr>\n",
              "      <td>2</td>\n",
              "      <td>No log</td>\n",
              "      <td>0.205358</td>\n",
              "      <td>0.953125</td>\n",
              "      <td>0.954029</td>\n",
              "      <td>0.957467</td>\n",
              "      <td>0.953125</td>\n",
              "    </tr>\n",
              "  </tbody>\n",
              "</table><p>"
            ]
          },
          "metadata": {}
        },
        {
          "output_type": "display_data",
          "data": {
            "text/plain": [
              "<IPython.core.display.HTML object>"
            ],
            "text/html": [
              "\n",
              "    <div>\n",
              "      \n",
              "      <progress value='28' max='28' style='width:300px; height:20px; vertical-align: middle;'></progress>\n",
              "      [28/28 00:03]\n",
              "    </div>\n",
              "    "
            ]
          },
          "metadata": {}
        },
        {
          "output_type": "stream",
          "name": "stdout",
          "text": [
            "Starting fold 2...\n"
          ]
        },
        {
          "output_type": "display_data",
          "data": {
            "text/plain": [
              "<IPython.core.display.HTML object>"
            ],
            "text/html": [
              "\n",
              "    <div>\n",
              "      \n",
              "      <progress value='56' max='56' style='width:300px; height:20px; vertical-align: middle;'></progress>\n",
              "      [56/56 02:09, Epoch 2/2]\n",
              "    </div>\n",
              "    <table border=\"1\" class=\"dataframe\">\n",
              "  <thead>\n",
              " <tr style=\"text-align: left;\">\n",
              "      <th>Epoch</th>\n",
              "      <th>Training Loss</th>\n",
              "      <th>Validation Loss</th>\n",
              "      <th>Accuracy</th>\n",
              "      <th>F1</th>\n",
              "      <th>Precision</th>\n",
              "      <th>Recall</th>\n",
              "    </tr>\n",
              "  </thead>\n",
              "  <tbody>\n",
              "    <tr>\n",
              "      <td>1</td>\n",
              "      <td>No log</td>\n",
              "      <td>0.267817</td>\n",
              "      <td>0.935268</td>\n",
              "      <td>0.935332</td>\n",
              "      <td>0.936293</td>\n",
              "      <td>0.935268</td>\n",
              "    </tr>\n",
              "    <tr>\n",
              "      <td>2</td>\n",
              "      <td>No log</td>\n",
              "      <td>0.254852</td>\n",
              "      <td>0.944196</td>\n",
              "      <td>0.943897</td>\n",
              "      <td>0.944788</td>\n",
              "      <td>0.944196</td>\n",
              "    </tr>\n",
              "  </tbody>\n",
              "</table><p>"
            ]
          },
          "metadata": {}
        },
        {
          "output_type": "display_data",
          "data": {
            "text/plain": [
              "<IPython.core.display.HTML object>"
            ],
            "text/html": [
              "\n",
              "    <div>\n",
              "      \n",
              "      <progress value='28' max='28' style='width:300px; height:20px; vertical-align: middle;'></progress>\n",
              "      [28/28 00:03]\n",
              "    </div>\n",
              "    "
            ]
          },
          "metadata": {}
        },
        {
          "output_type": "stream",
          "name": "stdout",
          "text": [
            "Starting fold 3...\n"
          ]
        },
        {
          "output_type": "display_data",
          "data": {
            "text/plain": [
              "<IPython.core.display.HTML object>"
            ],
            "text/html": [
              "\n",
              "    <div>\n",
              "      \n",
              "      <progress value='56' max='56' style='width:300px; height:20px; vertical-align: middle;'></progress>\n",
              "      [56/56 02:10, Epoch 2/2]\n",
              "    </div>\n",
              "    <table border=\"1\" class=\"dataframe\">\n",
              "  <thead>\n",
              " <tr style=\"text-align: left;\">\n",
              "      <th>Epoch</th>\n",
              "      <th>Training Loss</th>\n",
              "      <th>Validation Loss</th>\n",
              "      <th>Accuracy</th>\n",
              "      <th>F1</th>\n",
              "      <th>Precision</th>\n",
              "      <th>Recall</th>\n",
              "    </tr>\n",
              "  </thead>\n",
              "  <tbody>\n",
              "    <tr>\n",
              "      <td>1</td>\n",
              "      <td>No log</td>\n",
              "      <td>0.145861</td>\n",
              "      <td>0.959821</td>\n",
              "      <td>0.960017</td>\n",
              "      <td>0.960888</td>\n",
              "      <td>0.959821</td>\n",
              "    </tr>\n",
              "    <tr>\n",
              "      <td>2</td>\n",
              "      <td>No log</td>\n",
              "      <td>0.158338</td>\n",
              "      <td>0.959821</td>\n",
              "      <td>0.960042</td>\n",
              "      <td>0.961063</td>\n",
              "      <td>0.959821</td>\n",
              "    </tr>\n",
              "  </tbody>\n",
              "</table><p>"
            ]
          },
          "metadata": {}
        },
        {
          "output_type": "display_data",
          "data": {
            "text/plain": [
              "<IPython.core.display.HTML object>"
            ],
            "text/html": [
              "\n",
              "    <div>\n",
              "      \n",
              "      <progress value='28' max='28' style='width:300px; height:20px; vertical-align: middle;'></progress>\n",
              "      [28/28 00:03]\n",
              "    </div>\n",
              "    "
            ]
          },
          "metadata": {}
        },
        {
          "output_type": "stream",
          "name": "stdout",
          "text": [
            "Starting fold 4...\n"
          ]
        },
        {
          "output_type": "display_data",
          "data": {
            "text/plain": [
              "<IPython.core.display.HTML object>"
            ],
            "text/html": [
              "\n",
              "    <div>\n",
              "      \n",
              "      <progress value='56' max='56' style='width:300px; height:20px; vertical-align: middle;'></progress>\n",
              "      [56/56 02:11, Epoch 2/2]\n",
              "    </div>\n",
              "    <table border=\"1\" class=\"dataframe\">\n",
              "  <thead>\n",
              " <tr style=\"text-align: left;\">\n",
              "      <th>Epoch</th>\n",
              "      <th>Training Loss</th>\n",
              "      <th>Validation Loss</th>\n",
              "      <th>Accuracy</th>\n",
              "      <th>F1</th>\n",
              "      <th>Precision</th>\n",
              "      <th>Recall</th>\n",
              "    </tr>\n",
              "  </thead>\n",
              "  <tbody>\n",
              "    <tr>\n",
              "      <td>1</td>\n",
              "      <td>No log</td>\n",
              "      <td>0.228230</td>\n",
              "      <td>0.955357</td>\n",
              "      <td>0.955439</td>\n",
              "      <td>0.956278</td>\n",
              "      <td>0.955357</td>\n",
              "    </tr>\n",
              "    <tr>\n",
              "      <td>2</td>\n",
              "      <td>No log</td>\n",
              "      <td>0.212134</td>\n",
              "      <td>0.957589</td>\n",
              "      <td>0.957427</td>\n",
              "      <td>0.957987</td>\n",
              "      <td>0.957589</td>\n",
              "    </tr>\n",
              "  </tbody>\n",
              "</table><p>"
            ]
          },
          "metadata": {}
        },
        {
          "output_type": "display_data",
          "data": {
            "text/plain": [
              "<IPython.core.display.HTML object>"
            ],
            "text/html": [
              "\n",
              "    <div>\n",
              "      \n",
              "      <progress value='28' max='28' style='width:300px; height:20px; vertical-align: middle;'></progress>\n",
              "      [28/28 00:03]\n",
              "    </div>\n",
              "    "
            ]
          },
          "metadata": {}
        },
        {
          "output_type": "stream",
          "name": "stdout",
          "text": [
            "Starting fold 5...\n"
          ]
        },
        {
          "output_type": "display_data",
          "data": {
            "text/plain": [
              "<IPython.core.display.HTML object>"
            ],
            "text/html": [
              "\n",
              "    <div>\n",
              "      \n",
              "      <progress value='56' max='56' style='width:300px; height:20px; vertical-align: middle;'></progress>\n",
              "      [56/56 02:10, Epoch 2/2]\n",
              "    </div>\n",
              "    <table border=\"1\" class=\"dataframe\">\n",
              "  <thead>\n",
              " <tr style=\"text-align: left;\">\n",
              "      <th>Epoch</th>\n",
              "      <th>Training Loss</th>\n",
              "      <th>Validation Loss</th>\n",
              "      <th>Accuracy</th>\n",
              "      <th>F1</th>\n",
              "      <th>Precision</th>\n",
              "      <th>Recall</th>\n",
              "    </tr>\n",
              "  </thead>\n",
              "  <tbody>\n",
              "    <tr>\n",
              "      <td>1</td>\n",
              "      <td>No log</td>\n",
              "      <td>0.185859</td>\n",
              "      <td>0.953125</td>\n",
              "      <td>0.953098</td>\n",
              "      <td>0.953653</td>\n",
              "      <td>0.953125</td>\n",
              "    </tr>\n",
              "    <tr>\n",
              "      <td>2</td>\n",
              "      <td>No log</td>\n",
              "      <td>0.185557</td>\n",
              "      <td>0.957589</td>\n",
              "      <td>0.957326</td>\n",
              "      <td>0.957614</td>\n",
              "      <td>0.957589</td>\n",
              "    </tr>\n",
              "  </tbody>\n",
              "</table><p>"
            ]
          },
          "metadata": {}
        },
        {
          "output_type": "display_data",
          "data": {
            "text/plain": [
              "<IPython.core.display.HTML object>"
            ],
            "text/html": [
              "\n",
              "    <div>\n",
              "      \n",
              "      <progress value='28' max='28' style='width:300px; height:20px; vertical-align: middle;'></progress>\n",
              "      [28/28 00:03]\n",
              "    </div>\n",
              "    "
            ]
          },
          "metadata": {}
        },
        {
          "output_type": "stream",
          "name": "stderr",
          "text": [
            "[I 2024-07-09 09:25:35,938] Trial 1 finished with value: 0.19473922550678252 and parameters: {'learning_rate': 4.075920827603692e-05, 'num_train_epochs': 2, 'per_device_train_batch_size': 32, 'gradient_accumulation_steps': 2, 'weight_decay': 0.18552122162370738, 'warmup_steps': 201}. Best is trial 1 with value: 0.19473922550678252.\n",
            "/usr/local/lib/python3.10/dist-packages/transformers/training_args.py:1474: FutureWarning: `evaluation_strategy` is deprecated and will be removed in version 4.46 of 🤗 Transformers. Use `eval_strategy` instead\n",
            "  warnings.warn(\n"
          ]
        },
        {
          "output_type": "stream",
          "name": "stdout",
          "text": [
            "Starting fold 1...\n"
          ]
        },
        {
          "output_type": "display_data",
          "data": {
            "text/plain": [
              "<IPython.core.display.HTML object>"
            ],
            "text/html": [
              "\n",
              "    <div>\n",
              "      \n",
              "      <progress value='296' max='296' style='width:300px; height:20px; vertical-align: middle;'></progress>\n",
              "      [296/296 04:43, Epoch 3/4]\n",
              "    </div>\n",
              "    <table border=\"1\" class=\"dataframe\">\n",
              "  <thead>\n",
              " <tr style=\"text-align: left;\">\n",
              "      <th>Epoch</th>\n",
              "      <th>Training Loss</th>\n",
              "      <th>Validation Loss</th>\n",
              "      <th>Accuracy</th>\n",
              "      <th>F1</th>\n",
              "      <th>Precision</th>\n",
              "      <th>Recall</th>\n",
              "    </tr>\n",
              "  </thead>\n",
              "  <tbody>\n",
              "    <tr>\n",
              "      <td>0</td>\n",
              "      <td>No log</td>\n",
              "      <td>0.178818</td>\n",
              "      <td>0.964286</td>\n",
              "      <td>0.964426</td>\n",
              "      <td>0.965547</td>\n",
              "      <td>0.964286</td>\n",
              "    </tr>\n",
              "    <tr>\n",
              "      <td>1</td>\n",
              "      <td>No log</td>\n",
              "      <td>0.177139</td>\n",
              "      <td>0.953125</td>\n",
              "      <td>0.953814</td>\n",
              "      <td>0.956462</td>\n",
              "      <td>0.953125</td>\n",
              "    </tr>\n",
              "    <tr>\n",
              "      <td>3</td>\n",
              "      <td>No log</td>\n",
              "      <td>0.232962</td>\n",
              "      <td>0.944196</td>\n",
              "      <td>0.945031</td>\n",
              "      <td>0.948447</td>\n",
              "      <td>0.944196</td>\n",
              "    </tr>\n",
              "  </tbody>\n",
              "</table><p>"
            ]
          },
          "metadata": {}
        },
        {
          "output_type": "display_data",
          "data": {
            "text/plain": [
              "<IPython.core.display.HTML object>"
            ],
            "text/html": [
              "\n",
              "    <div>\n",
              "      \n",
              "      <progress value='28' max='28' style='width:300px; height:20px; vertical-align: middle;'></progress>\n",
              "      [28/28 00:03]\n",
              "    </div>\n",
              "    "
            ]
          },
          "metadata": {}
        },
        {
          "output_type": "stream",
          "name": "stdout",
          "text": [
            "Starting fold 2...\n"
          ]
        },
        {
          "output_type": "display_data",
          "data": {
            "text/plain": [
              "<IPython.core.display.HTML object>"
            ],
            "text/html": [
              "\n",
              "    <div>\n",
              "      \n",
              "      <progress value='296' max='296' style='width:300px; height:20px; vertical-align: middle;'></progress>\n",
              "      [296/296 04:38, Epoch 3/4]\n",
              "    </div>\n",
              "    <table border=\"1\" class=\"dataframe\">\n",
              "  <thead>\n",
              " <tr style=\"text-align: left;\">\n",
              "      <th>Epoch</th>\n",
              "      <th>Training Loss</th>\n",
              "      <th>Validation Loss</th>\n",
              "      <th>Accuracy</th>\n",
              "      <th>F1</th>\n",
              "      <th>Precision</th>\n",
              "      <th>Recall</th>\n",
              "    </tr>\n",
              "  </thead>\n",
              "  <tbody>\n",
              "    <tr>\n",
              "      <td>0</td>\n",
              "      <td>No log</td>\n",
              "      <td>0.273900</td>\n",
              "      <td>0.939732</td>\n",
              "      <td>0.939833</td>\n",
              "      <td>0.941217</td>\n",
              "      <td>0.939732</td>\n",
              "    </tr>\n",
              "    <tr>\n",
              "      <td>1</td>\n",
              "      <td>No log</td>\n",
              "      <td>0.258681</td>\n",
              "      <td>0.941964</td>\n",
              "      <td>0.941614</td>\n",
              "      <td>0.942415</td>\n",
              "      <td>0.941964</td>\n",
              "    </tr>\n",
              "    <tr>\n",
              "      <td>3</td>\n",
              "      <td>No log</td>\n",
              "      <td>0.265777</td>\n",
              "      <td>0.941964</td>\n",
              "      <td>0.941846</td>\n",
              "      <td>0.943346</td>\n",
              "      <td>0.941964</td>\n",
              "    </tr>\n",
              "  </tbody>\n",
              "</table><p>"
            ]
          },
          "metadata": {}
        },
        {
          "output_type": "display_data",
          "data": {
            "text/plain": [
              "<IPython.core.display.HTML object>"
            ],
            "text/html": [
              "\n",
              "    <div>\n",
              "      \n",
              "      <progress value='28' max='28' style='width:300px; height:20px; vertical-align: middle;'></progress>\n",
              "      [28/28 00:03]\n",
              "    </div>\n",
              "    "
            ]
          },
          "metadata": {}
        },
        {
          "output_type": "stream",
          "name": "stdout",
          "text": [
            "Starting fold 3...\n"
          ]
        },
        {
          "output_type": "display_data",
          "data": {
            "text/plain": [
              "<IPython.core.display.HTML object>"
            ],
            "text/html": [
              "\n",
              "    <div>\n",
              "      \n",
              "      <progress value='296' max='296' style='width:300px; height:20px; vertical-align: middle;'></progress>\n",
              "      [296/296 04:45, Epoch 3/4]\n",
              "    </div>\n",
              "    <table border=\"1\" class=\"dataframe\">\n",
              "  <thead>\n",
              " <tr style=\"text-align: left;\">\n",
              "      <th>Epoch</th>\n",
              "      <th>Training Loss</th>\n",
              "      <th>Validation Loss</th>\n",
              "      <th>Accuracy</th>\n",
              "      <th>F1</th>\n",
              "      <th>Precision</th>\n",
              "      <th>Recall</th>\n",
              "    </tr>\n",
              "  </thead>\n",
              "  <tbody>\n",
              "    <tr>\n",
              "      <td>0</td>\n",
              "      <td>No log</td>\n",
              "      <td>0.143591</td>\n",
              "      <td>0.959821</td>\n",
              "      <td>0.959942</td>\n",
              "      <td>0.960490</td>\n",
              "      <td>0.959821</td>\n",
              "    </tr>\n",
              "    <tr>\n",
              "      <td>1</td>\n",
              "      <td>No log</td>\n",
              "      <td>0.151264</td>\n",
              "      <td>0.964286</td>\n",
              "      <td>0.964322</td>\n",
              "      <td>0.965176</td>\n",
              "      <td>0.964286</td>\n",
              "    </tr>\n",
              "    <tr>\n",
              "      <td>3</td>\n",
              "      <td>No log</td>\n",
              "      <td>0.153183</td>\n",
              "      <td>0.957589</td>\n",
              "      <td>0.957502</td>\n",
              "      <td>0.958603</td>\n",
              "      <td>0.957589</td>\n",
              "    </tr>\n",
              "  </tbody>\n",
              "</table><p>"
            ]
          },
          "metadata": {}
        },
        {
          "output_type": "display_data",
          "data": {
            "text/plain": [
              "<IPython.core.display.HTML object>"
            ],
            "text/html": [
              "\n",
              "    <div>\n",
              "      \n",
              "      <progress value='28' max='28' style='width:300px; height:20px; vertical-align: middle;'></progress>\n",
              "      [28/28 00:03]\n",
              "    </div>\n",
              "    "
            ]
          },
          "metadata": {}
        },
        {
          "output_type": "stream",
          "name": "stdout",
          "text": [
            "Starting fold 4...\n"
          ]
        },
        {
          "output_type": "display_data",
          "data": {
            "text/plain": [
              "<IPython.core.display.HTML object>"
            ],
            "text/html": [
              "\n",
              "    <div>\n",
              "      \n",
              "      <progress value='296' max='296' style='width:300px; height:20px; vertical-align: middle;'></progress>\n",
              "      [296/296 04:38, Epoch 3/4]\n",
              "    </div>\n",
              "    <table border=\"1\" class=\"dataframe\">\n",
              "  <thead>\n",
              " <tr style=\"text-align: left;\">\n",
              "      <th>Epoch</th>\n",
              "      <th>Training Loss</th>\n",
              "      <th>Validation Loss</th>\n",
              "      <th>Accuracy</th>\n",
              "      <th>F1</th>\n",
              "      <th>Precision</th>\n",
              "      <th>Recall</th>\n",
              "    </tr>\n",
              "  </thead>\n",
              "  <tbody>\n",
              "    <tr>\n",
              "      <td>0</td>\n",
              "      <td>No log</td>\n",
              "      <td>0.221130</td>\n",
              "      <td>0.957589</td>\n",
              "      <td>0.957749</td>\n",
              "      <td>0.958454</td>\n",
              "      <td>0.957589</td>\n",
              "    </tr>\n",
              "    <tr>\n",
              "      <td>1</td>\n",
              "      <td>No log</td>\n",
              "      <td>0.211238</td>\n",
              "      <td>0.957589</td>\n",
              "      <td>0.957384</td>\n",
              "      <td>0.958031</td>\n",
              "      <td>0.957589</td>\n",
              "    </tr>\n",
              "    <tr>\n",
              "      <td>3</td>\n",
              "      <td>No log</td>\n",
              "      <td>0.201132</td>\n",
              "      <td>0.959821</td>\n",
              "      <td>0.959766</td>\n",
              "      <td>0.960572</td>\n",
              "      <td>0.959821</td>\n",
              "    </tr>\n",
              "  </tbody>\n",
              "</table><p>"
            ]
          },
          "metadata": {}
        },
        {
          "output_type": "display_data",
          "data": {
            "text/plain": [
              "<IPython.core.display.HTML object>"
            ],
            "text/html": [
              "\n",
              "    <div>\n",
              "      \n",
              "      <progress value='28' max='28' style='width:300px; height:20px; vertical-align: middle;'></progress>\n",
              "      [28/28 00:03]\n",
              "    </div>\n",
              "    "
            ]
          },
          "metadata": {}
        },
        {
          "output_type": "stream",
          "name": "stdout",
          "text": [
            "Starting fold 5...\n"
          ]
        },
        {
          "output_type": "display_data",
          "data": {
            "text/plain": [
              "<IPython.core.display.HTML object>"
            ],
            "text/html": [
              "\n",
              "    <div>\n",
              "      \n",
              "      <progress value='296' max='296' style='width:300px; height:20px; vertical-align: middle;'></progress>\n",
              "      [296/296 04:46, Epoch 3/4]\n",
              "    </div>\n",
              "    <table border=\"1\" class=\"dataframe\">\n",
              "  <thead>\n",
              " <tr style=\"text-align: left;\">\n",
              "      <th>Epoch</th>\n",
              "      <th>Training Loss</th>\n",
              "      <th>Validation Loss</th>\n",
              "      <th>Accuracy</th>\n",
              "      <th>F1</th>\n",
              "      <th>Precision</th>\n",
              "      <th>Recall</th>\n",
              "    </tr>\n",
              "  </thead>\n",
              "  <tbody>\n",
              "    <tr>\n",
              "      <td>0</td>\n",
              "      <td>No log</td>\n",
              "      <td>0.191163</td>\n",
              "      <td>0.955357</td>\n",
              "      <td>0.955279</td>\n",
              "      <td>0.955892</td>\n",
              "      <td>0.955357</td>\n",
              "    </tr>\n",
              "    <tr>\n",
              "      <td>1</td>\n",
              "      <td>No log</td>\n",
              "      <td>0.199166</td>\n",
              "      <td>0.950893</td>\n",
              "      <td>0.950897</td>\n",
              "      <td>0.951590</td>\n",
              "      <td>0.950893</td>\n",
              "    </tr>\n",
              "    <tr>\n",
              "      <td>3</td>\n",
              "      <td>No log</td>\n",
              "      <td>0.216001</td>\n",
              "      <td>0.948661</td>\n",
              "      <td>0.947704</td>\n",
              "      <td>0.948797</td>\n",
              "      <td>0.948661</td>\n",
              "    </tr>\n",
              "  </tbody>\n",
              "</table><p>"
            ]
          },
          "metadata": {}
        },
        {
          "output_type": "display_data",
          "data": {
            "text/plain": [
              "<IPython.core.display.HTML object>"
            ],
            "text/html": [
              "\n",
              "    <div>\n",
              "      \n",
              "      <progress value='28' max='28' style='width:300px; height:20px; vertical-align: middle;'></progress>\n",
              "      [28/28 00:03]\n",
              "    </div>\n",
              "    "
            ]
          },
          "metadata": {}
        },
        {
          "output_type": "stream",
          "name": "stderr",
          "text": [
            "[I 2024-07-09 09:49:36,360] Trial 2 finished with value: 0.19312008917331697 and parameters: {'learning_rate': 1.1738603684059503e-05, 'num_train_epochs': 4, 'per_device_train_batch_size': 8, 'gradient_accumulation_steps': 3, 'weight_decay': 0.12441406961535009, 'warmup_steps': 379}. Best is trial 2 with value: 0.19312008917331697.\n"
          ]
        }
      ]
    },
    {
      "cell_type": "code",
      "source": [
        "best_trial_nd = study_nd.best_trial"
      ],
      "metadata": {
        "id": "uL87Q6fa8-nJ"
      },
      "execution_count": 17,
      "outputs": []
    },
    {
      "cell_type": "code",
      "source": [
        "best_trial_dn = study_dn.best_trial"
      ],
      "metadata": {
        "id": "pd9VDiWZ9ATt"
      },
      "execution_count": 18,
      "outputs": []
    },
    {
      "cell_type": "code",
      "source": [
        "print(f\"Best trial ND: Value: {best_trial_nd.value}, Params: {best_trial_nd.params}\")\n",
        "print(f\"Best trial DN: Value: {best_trial_dn.value}, Params: {best_trial_dn.params}\")"
      ],
      "metadata": {
        "id": "XHtB4Iw-CHtR",
        "colab": {
          "base_uri": "https://localhost:8080/"
        },
        "outputId": "ddb92062-3cd9-41c6-bf2a-0b74023b3dbc"
      },
      "execution_count": 19,
      "outputs": [
        {
          "output_type": "stream",
          "name": "stdout",
          "text": [
            "Best trial ND: Value: 0.056785577535629274, Params: {'learning_rate': 2.9912691559155184e-05, 'num_train_epochs': 2, 'per_device_train_batch_size': 32, 'gradient_accumulation_steps': 1, 'weight_decay': 0.12046589013002564, 'warmup_steps': 131}\n",
            "Best trial DN: Value: 0.19312008917331697, Params: {'learning_rate': 1.1738603684059503e-05, 'num_train_epochs': 4, 'per_device_train_batch_size': 8, 'gradient_accumulation_steps': 3, 'weight_decay': 0.12441406961535009, 'warmup_steps': 379}\n"
          ]
        }
      ]
    },
    {
      "cell_type": "markdown",
      "source": [
        "# Final Training"
      ],
      "metadata": {
        "id": "1wGuoxMdCkiw"
      }
    },
    {
      "cell_type": "code",
      "source": [
        "def train_with_best_params(best_params, category_name, model_path, train_dataset):\n",
        "    training_args = TrainingArguments(\n",
        "        output_dir=f'/content/drive/My Drive/Research/SentimentAnalysisDivorce/Models/{category_name}',\n",
        "        evaluation_strategy='epoch',\n",
        "        save_strategy='no',\n",
        "        learning_rate=best_params['learning_rate'],\n",
        "        per_device_train_batch_size=best_params['per_device_train_batch_size'],\n",
        "        per_device_eval_batch_size=16,\n",
        "        num_train_epochs=best_params['num_train_epochs'],\n",
        "        weight_decay=0.01,\n",
        "        gradient_accumulation_steps=best_params['gradient_accumulation_steps'],\n",
        "        load_best_model_at_end=True,\n",
        "        metric_for_best_model='eval_loss',\n",
        "        greater_is_better=False,\n",
        "        fp16=True,  # Use mixed precision training\n",
        "    )\n",
        "\n",
        "    # Initialize K-fold cross-validator\n",
        "    kf = KFold(n_splits=5, shuffle=True, random_state=42)\n",
        "\n",
        "    # Perform K-Fold cross-validation and train final model\n",
        "    for fold, (train_index, eval_index) in enumerate(kf.split(train_dataset)):\n",
        "        print(f\"Starting fold {fold+1}...\")\n",
        "        train_subset = torch.utils.data.Subset(train_dataset, train_index)\n",
        "        eval_subset = torch.utils.data.Subset(train_dataset, eval_index)\n",
        "\n",
        "        model = XLMRobertaForSequenceClassification.from_pretrained(model_path, num_labels=7)\n",
        "        data_collator = DataCollatorWithPadding(tokenizer=tokenizer_xlm)\n",
        "\n",
        "        trainer = Trainer(\n",
        "            model=model,\n",
        "            args=training_args,\n",
        "            train_dataset=train_subset,\n",
        "            eval_dataset=eval_subset,\n",
        "            data_collator=data_collator,\n",
        "            compute_metrics=compute_metrics,\n",
        "            callbacks=[BestModelSaverCallback(\n",
        "                trainer=trainer,\n",
        "                tokenizer=tokenizer_xlm,\n",
        "                patience=3,\n",
        "                output_dir=training_args.output_dir\n",
        "            )]\n",
        "        )\n",
        "\n",
        "        for epoch in tqdm(range(training_args.num_train_epochs), desc=f\"Training fold {fold+1}\"):\n",
        "            trainer.train()\n",
        "            # Clear cache\n",
        "            torch.cuda.empty_cache()\n",
        "            torch.cuda.ipc_collect()"
      ],
      "metadata": {
        "id": "W8JWSQmOCHsH"
      },
      "execution_count": null,
      "outputs": []
    }
  ]
}